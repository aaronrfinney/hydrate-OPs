{
 "cells": [
  {
   "cell_type": "code",
   "execution_count": 1,
   "metadata": {},
   "outputs": [],
   "source": [
    "import MDAnalysis as mda\n",
    "\n",
    "import numpy as np\n",
    "import matplotlib.pyplot as plt\n",
    "\n",
    "import scipy.spatial.distance as ssd\n",
    "\n",
    "import networkx as nx\n",
    "from MDAnalysis.analysis.distances import contact_matrix"
   ]
  },
  {
   "cell_type": "code",
   "execution_count": 2,
   "metadata": {},
   "outputs": [],
   "source": [
    "plt.rcParams.update({\n",
    "    \"text.usetex\": False,\n",
    "    \"font.family\": \"serif\",\n",
    "    \"font.serif\": [\"computer modern roman\"],\n",
    "    \"font.size\": 14})\n",
    "plw = 0.6\n",
    "pcs = 3\n",
    "pms = 3\n",
    "bfillc = [0.9,0.9,0.9]\n",
    "plt.rcParams['axes.linewidth'] = plw\n",
    "plt.rcParams['xtick.top'] = True\n",
    "plt.rcParams['xtick.direction'] = 'in'\n",
    "plt.rcParams['xtick.major.width'] = plw\n",
    "plt.rcParams['xtick.minor.width'] = plw\n",
    "plt.rcParams['xtick.minor.visible'] = True\n",
    "plt.rcParams['xtick.major.size'] = 4.5\n",
    "plt.rcParams['ytick.right'] = True\n",
    "plt.rcParams['ytick.direction'] = 'in'\n",
    "plt.rcParams['ytick.major.width'] = plw\n",
    "plt.rcParams['ytick.minor.width'] = plw\n",
    "plt.rcParams['ytick.minor.visible'] = True\n",
    "plt.rcParams['ytick.major.size'] = 5\n",
    "plt.rcParams[\"figure.figsize\"] = (5,4)"
   ]
  },
  {
   "cell_type": "code",
   "execution_count": 3,
   "metadata": {},
   "outputs": [],
   "source": [
    "def minimum_image(point,cell):\n",
    "    \n",
    "    rc = 1.0/cell\n",
    "    point = point - cell*np.rint(rc*point)\n",
    "    return(point)"
   ]
  },
  {
   "cell_type": "code",
   "execution_count": 4,
   "metadata": {},
   "outputs": [],
   "source": [
    "wdir = './Bulk-ice-Ih/'\n",
    "#wdir = './Bulk-liquid-water/'\n",
    "u = mda.Universe(wdir+'md.tpr',wdir+'md.xtc')\n",
    "#u = mda.Universe(wdir+'anal.gro',wdir+'anal.xtc')"
   ]
  },
  {
   "cell_type": "code",
   "execution_count": 5,
   "metadata": {},
   "outputs": [],
   "source": [
    "### Atom selections\n",
    "wateroxy = u.select_atoms('name OW')\n",
    "waterhyd = u.select_atoms('name HW1 HW2')\n",
    "water = u.select_atoms('name OW HW1 HW2')"
   ]
  },
  {
   "cell_type": "code",
   "execution_count": 6,
   "metadata": {},
   "outputs": [
    {
     "name": "stdout",
     "output_type": "stream",
     "text": [
      "< Timestep 0 with unit cell dimensions [45.       46.7654   43.920002 90.       90.       90.      ] >\n",
      "< Timestep 1000 with unit cell dimensions [44.434895 46.178123 43.36846  90.       90.       90.      ] >\n",
      "< Timestep 2000 with unit cell dimensions [44.444202 46.187798 43.37755  90.       90.       90.      ] >\n",
      "< Timestep 3000 with unit cell dimensions [44.452515 46.196434 43.38566  90.       90.       90.      ] >\n",
      "< Timestep 4000 with unit cell dimensions [44.46071  46.20495  43.393654 90.       90.       90.      ] >\n"
     ]
    }
   ],
   "source": [
    "trunc_distance = 3.5# distance between two water oxygen atoms\n",
    "F3 = []\n",
    "F4p = []\n",
    "F4t = []\n",
    "\n",
    "frame = 0\n",
    "# Loop through the frames\n",
    "for ts in u.trajectory[0:-1:1000]:\n",
    "\n",
    "    if ts.frame%1000 == 0:\n",
    "        print(ts)\n",
    "        \n",
    "    # Generate the adjacancy matrix\n",
    "    adjmatrix = contact_matrix(wateroxy.positions, cutoff=trunc_distance, returntype='numpy', box=ts.dimensions)\n",
    "    #distances = distance_array(a_positions, b_positions,box=cell)\n",
    "        \n",
    "        \n",
    "    #============= CALCULATE F3 =============\n",
    "        \n",
    "    for i in range(0,wateroxy.n_atoms):          \n",
    "        ai = i\n",
    "        ai_pos = wateroxy.positions[ai]\n",
    "        ###print('ai',ai,wateroxy.indices[ai],wateroxy.positions[ai])\n",
    "        \n",
    "        # Connected water molecules\n",
    "        adjmatrix[ai,ai] = False # Ignore myself\n",
    "        ai_connections = np.where(adjmatrix[ai])[0]\n",
    "        n_conn = len(ai_connections)\n",
    "\n",
    "        F_i = 0\n",
    "        \n",
    "        for j in range(0,n_conn-1):\n",
    "    \n",
    "            aj = ai_connections[j]\n",
    "            aj_pos = wateroxy.positions[aj]\n",
    "            aj_pos = ai_pos + minimum_image(aj_pos-ai_pos,ts.dimensions[0:3])\n",
    "            ###print('aj',aj,wateroxy.indices[aj],wateroxy.positions[aj])\n",
    "            ###print('aj',aj,wateroxy.indices[aj],aj_pos)\n",
    "            ###print('dist',np.sqrt(np.dot(aj_pos-ai_pos,aj_pos-ai_pos)))\n",
    "            \n",
    "            for k in range(j+1,n_conn):\n",
    "\n",
    "                ak = ai_connections[k]\n",
    "                ak_pos = wateroxy.positions[ak]\n",
    "                ak_pos = ai_pos + minimum_image(ak_pos-ai_pos,ts.dimensions[0:3])    \n",
    "                ###print('ak',ak,wateroxy.indices[ak],wateroxy.positions[ak])   \n",
    "                ###print('ak',ak,wateroxy.indices[ak],ak_pos)  \n",
    "                ###print('dist',np.sqrt(np.dot(ak_pos-ai_pos,ak_pos-ai_pos)))\n",
    "                \n",
    "                u_vec = aj_pos - ai_pos\n",
    "                u_vec_l = np.sqrt(np.dot(u_vec,u_vec))\n",
    "                v_vec = ak_pos - ai_pos\n",
    "                v_vec_l = np.sqrt(np.dot(v_vec,v_vec))\n",
    "                ###print('ul,vl',u_vec_l,v_vec_l)\n",
    "                \n",
    "                cos_theta = np.dot(u_vec,v_vec)/(u_vec_l*v_vec_l)\n",
    "                ###print('cos_theta',cos_theta)\n",
    "                F_i += np.power((np.abs(cos_theta)*cos_theta + 0.11),2)\n",
    "                ###print('F3',np.power((np.abs(cos_theta)*cos_theta + 0.11),2))\n",
    "\n",
    "        if(n_conn>1): # Annoying!\n",
    "            F3.append(F_i/(n_conn*(n_conn-1)/2)) # Normalise by the number of water triplets\n",
    "        \n",
    "        \n",
    "\n",
    "        #============= CALCULATE F4 =============\n",
    "        # Bonded Hydrogens in a water dimer\n",
    "        hi_ind = np.zeros(2, dtype=np.int32)         # array of H atom indices for 1st H2O\n",
    "        hi_pos = np.zeros([2,3])                     # array of H atom positions for 1st H2O\n",
    "        hj_ind = np.zeros(2, dtype=np.int32)         # array of H atom indices for 2nd H2O\n",
    "        hj_pos = np.zeros([2,3])                     # array of H atom positions for 2nd H2O\n",
    "        \n",
    "        h_dis = np.zeros(4)                          # array of H-H distances in the dimer\n",
    "        h_dis_ind = np.zeros([4,2], dtype=np.int32)  # array of H-H indices - not necessary but avoids errors\n",
    "        \n",
    "        hi_ind[0] = wateroxy.atoms[ai:ai+1].bonds.indices[0][1]\n",
    "        hi_ind[1] = wateroxy.atoms[ai:ai+1].bonds.indices[1][1]\n",
    "        # Get the minimum vector to the central oxygen\n",
    "        hi_pos[0,:] = ai_pos + minimum_image(u.atoms.positions[hi_ind[0]]-ai_pos,ts.dimensions[0:3])\n",
    "        hi_pos[1,:] = ai_pos + minimum_image(u.atoms.positions[hi_ind[1]]-ai_pos,ts.dimensions[0:3]) \n",
    "        ###print('ai h1',hi_ind[0],'ai h2',hi_ind[1])\n",
    "        ###print('ai h1',hi_pos[0,:],'ai h2',hi_pos[1,:])\n",
    "        \n",
    "        F_i = 0 # F_4,phi\n",
    "        F_j = 0 # F_4t\n",
    "\n",
    "        for j in range(0,len(ai_connections)):   \n",
    "            \n",
    "            aj = ai_connections[j]\n",
    "            aj_pos = wateroxy.positions[aj]\n",
    "            aj_pos = ai_pos + minimum_image(aj_pos-ai_pos,ts.dimensions[0:3])    \n",
    "            ###print('aj',aj,wateroxy.indices[aj],wateroxy.positions[aj])\n",
    "            \n",
    "            hj_ind[0] = wateroxy.atoms[aj:aj+1].bonds.indices[0][1]\n",
    "            hj_ind[1] = wateroxy.atoms[aj:aj+1].bonds.indices[1][1]       \n",
    "            # Get the minimum vector to the central oxygen\n",
    "            hj_pos[0,:] = aj_pos + minimum_image(u.atoms.positions[hj_ind[0]]-aj_pos,ts.dimensions[0:3])      \n",
    "            hj_pos[1,:] = aj_pos + minimum_image(u.atoms.positions[hj_ind[1]]-aj_pos,ts.dimensions[0:3])    \n",
    "            ###print('aj h1',hj_ind[0],'aj h2',hj_ind[1])\n",
    "            ###print('aj h1',hj_pos[0,:],'aj h2',hj_pos[1,:])\n",
    "      \n",
    "            c = 0\n",
    "            for k in range(0,2):\n",
    "                for l in range(0,2):\n",
    "                    h_dis[c] = np.dot(hi_pos[k,:]-hj_pos[l,:],hi_pos[k,:]-hj_pos[l,:])\n",
    "                    ###print(c,k,hi_ind[k],l,hj_ind[l],np.sqrt(h_dis[c]))\n",
    "                    \n",
    "                    h_dis_ind[c,:] = k,l\n",
    "                    c += 1\n",
    "            \n",
    "            # Outermost H-H in the dimer\n",
    "            max_h_pair = np.argmax(h_dis)\n",
    "            ###print('max_h_pair',max_h_pair)\n",
    "            \n",
    "            # Specify the dihedral vectors\n",
    "            v_ab = ai_pos - hi_pos[h_dis_ind[max_h_pair,0],:]\n",
    "            ###print('a', hi_ind[h_dis_ind[max_h_pair,0]],'b', wateroxy.indices[ai], 'v_ab',np.sqrt(np.dot(v_ab,v_ab)))\n",
    "            v_bc = aj_pos - ai_pos\n",
    "            ###print('b', wateroxy.indices[ai],'c', wateroxy.indices[aj], 'v_bc',np.sqrt(np.dot(v_bc,v_bc)))\n",
    "            v_cd = hj_pos[h_dis_ind[max_h_pair,1],:] - aj_pos\n",
    "            ###print('c', wateroxy.indices[aj],'d', hj_ind[h_dis_ind[max_h_pair,1]], 'v_cd',np.sqrt(np.dot(v_cd,v_cd)))\n",
    "            \n",
    "            # Get the normal to the plane ABC\n",
    "            n1 = np.cross(v_ab,v_bc)\n",
    "            n1_l = np.sqrt(np.dot(n1,n1))\n",
    "            # Get the normal to the plane BCD\n",
    "            n2 = np.cross(v_bc,v_cd)      \n",
    "            n2_l = np.sqrt(np.dot(n2,n2))\n",
    "            \n",
    "            # Get the angle between the two vectors in the ABC and BCD planes\n",
    "            #cos_theta = np.abs(np.dot(n1,n2)/(n1_l*n2_l))\n",
    "            cos_theta = np.dot(n1,n2)/(n1_l*n2_l)\n",
    "            ###print('cos_theta',cos_theta)\n",
    "            # F_4,phi\n",
    "            F_i += 4*np.power(cos_theta,3)-3*cos_theta\n",
    "            ###print('F_4,phi',4*np.power(cos_theta,3)-3*cos_theta)\n",
    "            # F_4,t\n",
    "            F_j += np.power(np.dot(n1,v_cd),2)\n",
    "            ###print('F_4,t',np.power(np.dot(n1,v_cd),2))\n",
    "\n",
    "        F4p.append(F_i/len(ai_connections))\n",
    "        F4t.append(F_j/len(ai_connections))\n",
    "\n",
    "\n",
    "        \n",
    "    frame += 1"
   ]
  },
  {
   "cell_type": "code",
   "execution_count": 7,
   "metadata": {},
   "outputs": [
    {
     "data": {
      "text/plain": [
       "Text(0.5, 0, '$F_{4,t}$')"
      ]
     },
     "execution_count": 7,
     "metadata": {},
     "output_type": "execute_result"
    },
    {
     "name": "stderr",
     "output_type": "stream",
     "text": [
      "findfont: Font family ['serif'] not found. Falling back to DejaVu Sans.\n"
     ]
    },
    {
     "data": {
      "image/png": "[encoded data removed]",
      "text/plain": [
       "<Figure size 720x360 with 3 Axes>"
      ]
     },
     "metadata": {
      "needs_background": "light"
     },
     "output_type": "display_data"
    }
   ],
   "source": [
    "fig, [ax0, ax1, ax2] = plt.subplots(nrows=1, ncols=3, sharex=False,figsize=(10,5))  \n",
    "\n",
    "ax0.hist(F3,density=True)\n",
    "ax0.set_xlabel(r'$F_3$')\n",
    "ax1.hist(F4p,density=True)\n",
    "ax1.set_xlabel(r'$F_{4,\\phi}$')\n",
    "ax2.hist(F4t,density=True)\n",
    "ax2.set_xlabel(r'$F_{4,t}$')"
   ]
  },
  {
   "cell_type": "code",
   "execution_count": null,
   "metadata": {},
   "outputs": [],
   "source": []
  }
 ],
 "metadata": {
  "kernelspec": {
   "display_name": "Python 3",
   "language": "python",
   "name": "python3"
  },
  "language_info": {
   "codemirror_mode": {
    "name": "ipython",
    "version": 3
   },
   "file_extension": ".py",
   "mimetype": "text/x-python",
   "name": "python",
   "nbconvert_exporter": "python",
   "pygments_lexer": "ipython3",
   "version": "3.7.3"
  }
 },
 "nbformat": 4,
 "nbformat_minor": 4
}
